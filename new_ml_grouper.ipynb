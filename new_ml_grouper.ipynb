{
 "cells": [
  {
   "cell_type": "code",
   "execution_count": 1,
   "id": "cc7a4b12-c591-4da7-bf39-874887ffe82e",
   "metadata": {},
   "outputs": [],
   "source": [
    "# import libraries\n",
    "import pandas as pd\n",
    "import numpy as np\n",
    "import matplotlib.pyplot as plt"
   ]
  },
  {
   "cell_type": "code",
   "execution_count": null,
   "id": "ab68085e-9ad1-4418-98e0-ef5bcf724cbb",
   "metadata": {},
   "outputs": [],
   "source": []
  },
  {
   "cell_type": "code",
   "execution_count": 2,
   "id": "7c10dc34-d67a-420f-8af5-f2a413272a5d",
   "metadata": {},
   "outputs": [],
   "source": [
    "df = pd.read_csv('expense_dataset.csv', encoding='latin1')"
   ]
  },
  {
   "cell_type": "code",
   "execution_count": 3,
   "id": "264c31f4-7fd5-4cb5-be2f-e8f8d0fb56f1",
   "metadata": {},
   "outputs": [
    {
     "data": {
      "text/html": [
       "<div>\n",
       "<style scoped>\n",
       "    .dataframe tbody tr th:only-of-type {\n",
       "        vertical-align: middle;\n",
       "    }\n",
       "\n",
       "    .dataframe tbody tr th {\n",
       "        vertical-align: top;\n",
       "    }\n",
       "\n",
       "    .dataframe thead th {\n",
       "        text-align: right;\n",
       "    }\n",
       "</style>\n",
       "<table border=\"1\" class=\"dataframe\">\n",
       "  <thead>\n",
       "    <tr style=\"text-align: right;\">\n",
       "      <th></th>\n",
       "      <th>Transaction Description</th>\n",
       "      <th>Category</th>\n",
       "      <th>Price (â¹)</th>\n",
       "    </tr>\n",
       "  </thead>\n",
       "  <tbody>\n",
       "    <tr>\n",
       "      <th>0</th>\n",
       "      <td>Taxi Service</td>\n",
       "      <td>Transportation</td>\n",
       "      <td>1892.45</td>\n",
       "    </tr>\n",
       "    <tr>\n",
       "      <th>1</th>\n",
       "      <td>Gaming Subscription</td>\n",
       "      <td>Entertainment</td>\n",
       "      <td>3040.31</td>\n",
       "    </tr>\n",
       "    <tr>\n",
       "      <th>2</th>\n",
       "      <td>Amazon Purchase</td>\n",
       "      <td>Shopping</td>\n",
       "      <td>3215.28</td>\n",
       "    </tr>\n",
       "    <tr>\n",
       "      <th>3</th>\n",
       "      <td>Bike Servicing</td>\n",
       "      <td>Utilities</td>\n",
       "      <td>3124.89</td>\n",
       "    </tr>\n",
       "    <tr>\n",
       "      <th>4</th>\n",
       "      <td>Gym Membership</td>\n",
       "      <td>Health &amp; Fitness</td>\n",
       "      <td>276.82</td>\n",
       "    </tr>\n",
       "  </tbody>\n",
       "</table>\n",
       "</div>"
      ],
      "text/plain": [
       "  Transaction Description          Category  Price (â¹)\n",
       "0            Taxi Service    Transportation      1892.45\n",
       "1     Gaming Subscription     Entertainment      3040.31\n",
       "2         Amazon Purchase          Shopping      3215.28\n",
       "3          Bike Servicing         Utilities      3124.89\n",
       "4          Gym Membership  Health & Fitness       276.82"
      ]
     },
     "execution_count": 3,
     "metadata": {},
     "output_type": "execute_result"
    }
   ],
   "source": [
    "df.head()"
   ]
  },
  {
   "cell_type": "code",
   "execution_count": 4,
   "id": "b39ed118-69ce-4ca2-bf95-f8c2f0fbbfc7",
   "metadata": {},
   "outputs": [
    {
     "data": {
      "text/html": [
       "<div>\n",
       "<style scoped>\n",
       "    .dataframe tbody tr th:only-of-type {\n",
       "        vertical-align: middle;\n",
       "    }\n",
       "\n",
       "    .dataframe tbody tr th {\n",
       "        vertical-align: top;\n",
       "    }\n",
       "\n",
       "    .dataframe thead th {\n",
       "        text-align: right;\n",
       "    }\n",
       "</style>\n",
       "<table border=\"1\" class=\"dataframe\">\n",
       "  <thead>\n",
       "    <tr style=\"text-align: right;\">\n",
       "      <th></th>\n",
       "      <th>Description</th>\n",
       "      <th>target</th>\n",
       "      <th>Amount</th>\n",
       "    </tr>\n",
       "  </thead>\n",
       "  <tbody>\n",
       "    <tr>\n",
       "      <th>0</th>\n",
       "      <td>Taxi Service</td>\n",
       "      <td>Transportation</td>\n",
       "      <td>1892.45</td>\n",
       "    </tr>\n",
       "    <tr>\n",
       "      <th>1</th>\n",
       "      <td>Gaming Subscription</td>\n",
       "      <td>Entertainment</td>\n",
       "      <td>3040.31</td>\n",
       "    </tr>\n",
       "    <tr>\n",
       "      <th>2</th>\n",
       "      <td>Amazon Purchase</td>\n",
       "      <td>Shopping</td>\n",
       "      <td>3215.28</td>\n",
       "    </tr>\n",
       "    <tr>\n",
       "      <th>3</th>\n",
       "      <td>Bike Servicing</td>\n",
       "      <td>Utilities</td>\n",
       "      <td>3124.89</td>\n",
       "    </tr>\n",
       "    <tr>\n",
       "      <th>4</th>\n",
       "      <td>Gym Membership</td>\n",
       "      <td>Health &amp; Fitness</td>\n",
       "      <td>276.82</td>\n",
       "    </tr>\n",
       "  </tbody>\n",
       "</table>\n",
       "</div>"
      ],
      "text/plain": [
       "           Description            target   Amount\n",
       "0         Taxi Service    Transportation  1892.45\n",
       "1  Gaming Subscription     Entertainment  3040.31\n",
       "2      Amazon Purchase          Shopping  3215.28\n",
       "3       Bike Servicing         Utilities  3124.89\n",
       "4       Gym Membership  Health & Fitness   276.82"
      ]
     },
     "execution_count": 4,
     "metadata": {},
     "output_type": "execute_result"
    }
   ],
   "source": [
    "df.rename(columns={'Price (â¹)': \"Amount\", 'Category': 'target', 'Transaction Description': 'Description'}, inplace=True)\n",
    "df.head()"
   ]
  },
  {
   "cell_type": "code",
   "execution_count": 5,
   "id": "ce1105d6-1789-422d-b5a8-9d7423e6652c",
   "metadata": {},
   "outputs": [
    {
     "data": {
      "text/plain": [
       "15"
      ]
     },
     "execution_count": 5,
     "metadata": {},
     "output_type": "execute_result"
    }
   ],
   "source": [
    "df['target'].nunique()"
   ]
  },
  {
   "cell_type": "code",
   "execution_count": 6,
   "id": "428ce08a-b798-40ba-9efc-e7dbc8985673",
   "metadata": {},
   "outputs": [],
   "source": [
    "from sklearn.preprocessing import LabelEncoder\n",
    "encoder = LabelEncoder()"
   ]
  },
  {
   "cell_type": "code",
   "execution_count": 7,
   "id": "1cf60393-ca2a-4fe4-bfbc-8f3642d74328",
   "metadata": {},
   "outputs": [],
   "source": [
    "df['target'] = encoder.fit_transform(df['target'])"
   ]
  },
  {
   "cell_type": "code",
   "execution_count": 8,
   "id": "12c919fa-50bb-4ef5-adb2-8096f9f1728f",
   "metadata": {},
   "outputs": [
    {
     "data": {
      "text/html": [
       "<div>\n",
       "<style scoped>\n",
       "    .dataframe tbody tr th:only-of-type {\n",
       "        vertical-align: middle;\n",
       "    }\n",
       "\n",
       "    .dataframe tbody tr th {\n",
       "        vertical-align: top;\n",
       "    }\n",
       "\n",
       "    .dataframe thead th {\n",
       "        text-align: right;\n",
       "    }\n",
       "</style>\n",
       "<table border=\"1\" class=\"dataframe\">\n",
       "  <thead>\n",
       "    <tr style=\"text-align: right;\">\n",
       "      <th></th>\n",
       "      <th>Description</th>\n",
       "      <th>target</th>\n",
       "      <th>Amount</th>\n",
       "    </tr>\n",
       "  </thead>\n",
       "  <tbody>\n",
       "    <tr>\n",
       "      <th>0</th>\n",
       "      <td>Taxi Service</td>\n",
       "      <td>12</td>\n",
       "      <td>1892.45</td>\n",
       "    </tr>\n",
       "    <tr>\n",
       "      <th>1</th>\n",
       "      <td>Gaming Subscription</td>\n",
       "      <td>1</td>\n",
       "      <td>3040.31</td>\n",
       "    </tr>\n",
       "    <tr>\n",
       "      <th>2</th>\n",
       "      <td>Amazon Purchase</td>\n",
       "      <td>10</td>\n",
       "      <td>3215.28</td>\n",
       "    </tr>\n",
       "    <tr>\n",
       "      <th>3</th>\n",
       "      <td>Bike Servicing</td>\n",
       "      <td>14</td>\n",
       "      <td>3124.89</td>\n",
       "    </tr>\n",
       "    <tr>\n",
       "      <th>4</th>\n",
       "      <td>Gym Membership</td>\n",
       "      <td>5</td>\n",
       "      <td>276.82</td>\n",
       "    </tr>\n",
       "  </tbody>\n",
       "</table>\n",
       "</div>"
      ],
      "text/plain": [
       "           Description  target   Amount\n",
       "0         Taxi Service      12  1892.45\n",
       "1  Gaming Subscription       1  3040.31\n",
       "2      Amazon Purchase      10  3215.28\n",
       "3       Bike Servicing      14  3124.89\n",
       "4       Gym Membership       5   276.82"
      ]
     },
     "execution_count": 8,
     "metadata": {},
     "output_type": "execute_result"
    }
   ],
   "source": [
    "df.head()"
   ]
  },
  {
   "cell_type": "code",
   "execution_count": 9,
   "id": "ee286a6d-676c-4669-ae60-92b07deda4ed",
   "metadata": {},
   "outputs": [
    {
     "data": {
      "text/plain": [
       "0"
      ]
     },
     "execution_count": 9,
     "metadata": {},
     "output_type": "execute_result"
    }
   ],
   "source": [
    "df.duplicated().sum()"
   ]
  },
  {
   "cell_type": "code",
   "execution_count": 10,
   "id": "99ebf19a-23f4-476d-93c3-a0d0086eb484",
   "metadata": {},
   "outputs": [
    {
     "data": {
      "text/plain": [
       "target\n",
       "14    35\n",
       "1     26\n",
       "3     25\n",
       "12    24\n",
       "4     18\n",
       "10    16\n",
       "5     12\n",
       "0     12\n",
       "13    11\n",
       "11     7\n",
       "6      6\n",
       "2      3\n",
       "7      3\n",
       "8      1\n",
       "9      1\n",
       "Name: count, dtype: int64"
      ]
     },
     "execution_count": 10,
     "metadata": {},
     "output_type": "execute_result"
    }
   ],
   "source": [
    "df['target'].value_counts()"
   ]
  },
  {
   "cell_type": "code",
   "execution_count": 11,
   "id": "f4a7a4ac-90b2-4629-ac00-a9b4ce612c6d",
   "metadata": {},
   "outputs": [],
   "source": [
    "import nltk"
   ]
  },
  {
   "cell_type": "code",
   "execution_count": 12,
   "id": "94ef6079-950f-4c96-93df-be8815d23264",
   "metadata": {},
   "outputs": [
    {
     "name": "stderr",
     "output_type": "stream",
     "text": [
      "[nltk_data] Downloading package punkt to\n",
      "[nltk_data]     C:\\Users\\santo\\AppData\\Roaming\\nltk_data...\n",
      "[nltk_data]   Package punkt is already up-to-date!\n"
     ]
    },
    {
     "data": {
      "text/plain": [
       "True"
      ]
     },
     "execution_count": 12,
     "metadata": {},
     "output_type": "execute_result"
    }
   ],
   "source": [
    "nltk.download('punkt')"
   ]
  },
  {
   "cell_type": "code",
   "execution_count": null,
   "id": "4dbc75ea-b832-4a46-a851-c1447b2daa7b",
   "metadata": {},
   "outputs": [],
   "source": []
  },
  {
   "cell_type": "code",
   "execution_count": 13,
   "id": "3df12c69-041d-45fb-a397-73959826019e",
   "metadata": {},
   "outputs": [
    {
     "data": {
      "text/plain": [
       "['a',\n",
       " 'about',\n",
       " 'above',\n",
       " 'after',\n",
       " 'again',\n",
       " 'against',\n",
       " 'ain',\n",
       " 'all',\n",
       " 'am',\n",
       " 'an',\n",
       " 'and',\n",
       " 'any',\n",
       " 'are',\n",
       " 'aren',\n",
       " \"aren't\",\n",
       " 'as',\n",
       " 'at',\n",
       " 'be',\n",
       " 'because',\n",
       " 'been',\n",
       " 'before',\n",
       " 'being',\n",
       " 'below',\n",
       " 'between',\n",
       " 'both',\n",
       " 'but',\n",
       " 'by',\n",
       " 'can',\n",
       " 'couldn',\n",
       " \"couldn't\",\n",
       " 'd',\n",
       " 'did',\n",
       " 'didn',\n",
       " \"didn't\",\n",
       " 'do',\n",
       " 'does',\n",
       " 'doesn',\n",
       " \"doesn't\",\n",
       " 'doing',\n",
       " 'don',\n",
       " \"don't\",\n",
       " 'down',\n",
       " 'during',\n",
       " 'each',\n",
       " 'few',\n",
       " 'for',\n",
       " 'from',\n",
       " 'further',\n",
       " 'had',\n",
       " 'hadn',\n",
       " \"hadn't\",\n",
       " 'has',\n",
       " 'hasn',\n",
       " \"hasn't\",\n",
       " 'have',\n",
       " 'haven',\n",
       " \"haven't\",\n",
       " 'having',\n",
       " 'he',\n",
       " \"he'd\",\n",
       " \"he'll\",\n",
       " 'her',\n",
       " 'here',\n",
       " 'hers',\n",
       " 'herself',\n",
       " \"he's\",\n",
       " 'him',\n",
       " 'himself',\n",
       " 'his',\n",
       " 'how',\n",
       " 'i',\n",
       " \"i'd\",\n",
       " 'if',\n",
       " \"i'll\",\n",
       " \"i'm\",\n",
       " 'in',\n",
       " 'into',\n",
       " 'is',\n",
       " 'isn',\n",
       " \"isn't\",\n",
       " 'it',\n",
       " \"it'd\",\n",
       " \"it'll\",\n",
       " \"it's\",\n",
       " 'its',\n",
       " 'itself',\n",
       " \"i've\",\n",
       " 'just',\n",
       " 'll',\n",
       " 'm',\n",
       " 'ma',\n",
       " 'me',\n",
       " 'mightn',\n",
       " \"mightn't\",\n",
       " 'more',\n",
       " 'most',\n",
       " 'mustn',\n",
       " \"mustn't\",\n",
       " 'my',\n",
       " 'myself',\n",
       " 'needn',\n",
       " \"needn't\",\n",
       " 'no',\n",
       " 'nor',\n",
       " 'not',\n",
       " 'now',\n",
       " 'o',\n",
       " 'of',\n",
       " 'off',\n",
       " 'on',\n",
       " 'once',\n",
       " 'only',\n",
       " 'or',\n",
       " 'other',\n",
       " 'our',\n",
       " 'ours',\n",
       " 'ourselves',\n",
       " 'out',\n",
       " 'over',\n",
       " 'own',\n",
       " 're',\n",
       " 's',\n",
       " 'same',\n",
       " 'shan',\n",
       " \"shan't\",\n",
       " 'she',\n",
       " \"she'd\",\n",
       " \"she'll\",\n",
       " \"she's\",\n",
       " 'should',\n",
       " 'shouldn',\n",
       " \"shouldn't\",\n",
       " \"should've\",\n",
       " 'so',\n",
       " 'some',\n",
       " 'such',\n",
       " 't',\n",
       " 'than',\n",
       " 'that',\n",
       " \"that'll\",\n",
       " 'the',\n",
       " 'their',\n",
       " 'theirs',\n",
       " 'them',\n",
       " 'themselves',\n",
       " 'then',\n",
       " 'there',\n",
       " 'these',\n",
       " 'they',\n",
       " \"they'd\",\n",
       " \"they'll\",\n",
       " \"they're\",\n",
       " \"they've\",\n",
       " 'this',\n",
       " 'those',\n",
       " 'through',\n",
       " 'to',\n",
       " 'too',\n",
       " 'under',\n",
       " 'until',\n",
       " 'up',\n",
       " 've',\n",
       " 'very',\n",
       " 'was',\n",
       " 'wasn',\n",
       " \"wasn't\",\n",
       " 'we',\n",
       " \"we'd\",\n",
       " \"we'll\",\n",
       " \"we're\",\n",
       " 'were',\n",
       " 'weren',\n",
       " \"weren't\",\n",
       " \"we've\",\n",
       " 'what',\n",
       " 'when',\n",
       " 'where',\n",
       " 'which',\n",
       " 'while',\n",
       " 'who',\n",
       " 'whom',\n",
       " 'why',\n",
       " 'will',\n",
       " 'with',\n",
       " 'won',\n",
       " \"won't\",\n",
       " 'wouldn',\n",
       " \"wouldn't\",\n",
       " 'y',\n",
       " 'you',\n",
       " \"you'd\",\n",
       " \"you'll\",\n",
       " 'your',\n",
       " \"you're\",\n",
       " 'yours',\n",
       " 'yourself',\n",
       " 'yourselves',\n",
       " \"you've\"]"
      ]
     },
     "execution_count": 13,
     "metadata": {},
     "output_type": "execute_result"
    }
   ],
   "source": [
    "# stopwords are the word which do not contribute un the meaning of sentence but they are used to buid the sentence\n",
    "from nltk.corpus import stopwords\n",
    "stopwords.words('english')"
   ]
  },
  {
   "cell_type": "code",
   "execution_count": 14,
   "id": "09e61123-9f49-4189-b2b9-34f9f13482a0",
   "metadata": {},
   "outputs": [
    {
     "data": {
      "text/plain": [
       "'!\"#$%&\\'()*+,-./:;<=>?@[\\\\]^_`{|}~'"
      ]
     },
     "execution_count": 14,
     "metadata": {},
     "output_type": "execute_result"
    }
   ],
   "source": [
    "# punctuations \n",
    "import string \n",
    "string.punctuation"
   ]
  },
  {
   "cell_type": "code",
   "execution_count": 15,
   "id": "a84d9d12-3371-4996-b96b-f017172fa0b0",
   "metadata": {},
   "outputs": [
    {
     "data": {
      "text/plain": [
       "'love'"
      ]
     },
     "execution_count": 15,
     "metadata": {},
     "output_type": "execute_result"
    }
   ],
   "source": [
    "# stamming\n",
    "from nltk.stem.porter import PorterStemmer\n",
    "ps = PorterStemmer()\n",
    "ps.stem('Loving')"
   ]
  },
  {
   "cell_type": "code",
   "execution_count": 16,
   "id": "7e8e3aee-33ab-4272-a9ae-b2aac273f5a7",
   "metadata": {},
   "outputs": [],
   "source": [
    "def transform_text(text):\n",
    "    text = text.lower()\n",
    "    text = nltk.word_tokenize(text)\n",
    "    y = []\n",
    "\n",
    "    # Removing special charecter\n",
    "    for i in text:\n",
    "        if i.isalnum():\n",
    "            y.append(i)\n",
    "\n",
    "    # removing stop word and punctuation\n",
    "    text = y[:]\n",
    "    y.clear()\n",
    "    for i in text:\n",
    "        if i not in stopwords.words('english') and i not in string.punctuation:\n",
    "            y.append(i)\n",
    "\n",
    "\n",
    "    # stemming\n",
    "    text = y[:]\n",
    "    y.clear()\n",
    "\n",
    "    for i in text:\n",
    "        y.append(ps.stem(i));\n",
    "    return \" \".join(y)"
   ]
  },
  {
   "cell_type": "code",
   "execution_count": 17,
   "id": "0f1ddaa1-114d-4dd9-aba6-519a6745f38e",
   "metadata": {},
   "outputs": [
    {
     "data": {
      "text/plain": [
       "'love youtub lectur machin learn'"
      ]
     },
     "execution_count": 17,
     "metadata": {},
     "output_type": "execute_result"
    }
   ],
   "source": [
    "transform_text(\"I loved the youtube lecture in machine learning. How about you ? \")"
   ]
  },
  {
   "cell_type": "code",
   "execution_count": 18,
   "id": "deac3cf2-d3b1-4b33-8ea0-c3055ce044a4",
   "metadata": {},
   "outputs": [],
   "source": [
    "df['transformed_text'] = df['Description'].apply(transform_text)"
   ]
  },
  {
   "cell_type": "code",
   "execution_count": 19,
   "id": "4f260219-6b15-419f-9679-696e550ac964",
   "metadata": {},
   "outputs": [
    {
     "data": {
      "text/html": [
       "<div>\n",
       "<style scoped>\n",
       "    .dataframe tbody tr th:only-of-type {\n",
       "        vertical-align: middle;\n",
       "    }\n",
       "\n",
       "    .dataframe tbody tr th {\n",
       "        vertical-align: top;\n",
       "    }\n",
       "\n",
       "    .dataframe thead th {\n",
       "        text-align: right;\n",
       "    }\n",
       "</style>\n",
       "<table border=\"1\" class=\"dataframe\">\n",
       "  <thead>\n",
       "    <tr style=\"text-align: right;\">\n",
       "      <th></th>\n",
       "      <th>Description</th>\n",
       "      <th>target</th>\n",
       "      <th>Amount</th>\n",
       "      <th>transformed_text</th>\n",
       "    </tr>\n",
       "  </thead>\n",
       "  <tbody>\n",
       "    <tr>\n",
       "      <th>0</th>\n",
       "      <td>Taxi Service</td>\n",
       "      <td>12</td>\n",
       "      <td>1892.45</td>\n",
       "      <td>taxi servic</td>\n",
       "    </tr>\n",
       "    <tr>\n",
       "      <th>1</th>\n",
       "      <td>Gaming Subscription</td>\n",
       "      <td>1</td>\n",
       "      <td>3040.31</td>\n",
       "      <td>game subscript</td>\n",
       "    </tr>\n",
       "    <tr>\n",
       "      <th>2</th>\n",
       "      <td>Amazon Purchase</td>\n",
       "      <td>10</td>\n",
       "      <td>3215.28</td>\n",
       "      <td>amazon purchas</td>\n",
       "    </tr>\n",
       "    <tr>\n",
       "      <th>3</th>\n",
       "      <td>Bike Servicing</td>\n",
       "      <td>14</td>\n",
       "      <td>3124.89</td>\n",
       "      <td>bike servic</td>\n",
       "    </tr>\n",
       "    <tr>\n",
       "      <th>4</th>\n",
       "      <td>Gym Membership</td>\n",
       "      <td>5</td>\n",
       "      <td>276.82</td>\n",
       "      <td>gym membership</td>\n",
       "    </tr>\n",
       "  </tbody>\n",
       "</table>\n",
       "</div>"
      ],
      "text/plain": [
       "           Description  target   Amount transformed_text\n",
       "0         Taxi Service      12  1892.45      taxi servic\n",
       "1  Gaming Subscription       1  3040.31   game subscript\n",
       "2      Amazon Purchase      10  3215.28   amazon purchas\n",
       "3       Bike Servicing      14  3124.89      bike servic\n",
       "4       Gym Membership       5   276.82   gym membership"
      ]
     },
     "execution_count": 19,
     "metadata": {},
     "output_type": "execute_result"
    }
   ],
   "source": [
    "df.head()"
   ]
  },
  {
   "cell_type": "code",
   "execution_count": 20,
   "id": "fa1f3223-570e-4646-900b-8e997527e903",
   "metadata": {},
   "outputs": [],
   "source": [
    "from wordcloud import WordCloud"
   ]
  },
  {
   "cell_type": "code",
   "execution_count": 21,
   "id": "684a4ad0-a23a-464f-bb7a-3a01aff1678a",
   "metadata": {},
   "outputs": [],
   "source": [
    "wc = WordCloud(width=500, height=500, min_font_size=10, background_color='white')"
   ]
  },
  {
   "cell_type": "code",
   "execution_count": 22,
   "id": "b9eef080-0926-44bb-bb8f-43c130054079",
   "metadata": {},
   "outputs": [],
   "source": [
    "spam_wc = wc.generate(df[df['target'] == 1]['transformed_text'].str.cat(sep=' '))"
   ]
  },
  {
   "cell_type": "code",
   "execution_count": 23,
   "id": "c49ed0e3-56a4-4222-82af-76377492baa8",
   "metadata": {},
   "outputs": [
    {
     "data": {
      "text/plain": [
       "array([12,  1, 10, 14,  5,  3,  2,  4, 13,  0, 11,  8,  6,  7,  9])"
      ]
     },
     "execution_count": 23,
     "metadata": {},
     "output_type": "execute_result"
    }
   ],
   "source": [
    "df['target'].unique()"
   ]
  },
  {
   "cell_type": "code",
   "execution_count": 24,
   "id": "f4f819e9-65f2-43b2-b8ee-bd5edc59f52a",
   "metadata": {},
   "outputs": [
    {
     "data": {
      "text/plain": [
       "array([12,  1, 10, 14,  5,  3,  2,  4, 13,  0, 11,  8,  6,  7,  9])"
      ]
     },
     "execution_count": 24,
     "metadata": {},
     "output_type": "execute_result"
    }
   ],
   "source": [
    "df['target'].unique()"
   ]
  },
  {
   "cell_type": "code",
   "execution_count": 25,
   "id": "d4653759-332e-4814-94b4-a7a0910d7d6d",
   "metadata": {},
   "outputs": [
    {
     "data": {
      "text/plain": [
       "['game subscript',\n",
       " 'stream servic',\n",
       " 'stream servic',\n",
       " 'movi ticket',\n",
       " 'stream servic',\n",
       " 'theater ticket',\n",
       " 'concert ticket',\n",
       " 'netflix subscript',\n",
       " 'netflix subscript',\n",
       " 'theater ticket',\n",
       " 'theater ticket',\n",
       " 'concert ticket',\n",
       " 'stream servic',\n",
       " 'game subscript',\n",
       " 'game subscript',\n",
       " 'stream servic',\n",
       " 'netflix subscript',\n",
       " 'netflix subscript',\n",
       " 'movi ticket',\n",
       " 'concert ticket',\n",
       " 'theater ticket',\n",
       " 'theater ticket',\n",
       " 'spotifi premium',\n",
       " 'movi ticket',\n",
       " 'spotifi premium',\n",
       " 'game subscript']"
      ]
     },
     "execution_count": 25,
     "metadata": {},
     "output_type": "execute_result"
    }
   ],
   "source": [
    "df[df['target']==1]['transformed_text'].tolist()"
   ]
  },
  {
   "cell_type": "code",
   "execution_count": 26,
   "id": "d4990438-7112-4651-845c-fa1173669d85",
   "metadata": {},
   "outputs": [],
   "source": [
    "Entertainment =[]\n",
    "for msg in df[df['target']==1]['transformed_text'].tolist():\n",
    "    for word in msg.split():\n",
    "        Entertainment.append(word)"
   ]
  },
  {
   "cell_type": "code",
   "execution_count": 27,
   "id": "a5b136c1-1d17-4dcc-9ad8-a9391eab77b1",
   "metadata": {},
   "outputs": [
    {
     "data": {
      "text/plain": [
       "['game subscript',\n",
       " 'stream servic',\n",
       " 'stream servic',\n",
       " 'movi ticket',\n",
       " 'stream servic',\n",
       " 'theater ticket',\n",
       " 'concert ticket',\n",
       " 'netflix subscript',\n",
       " 'netflix subscript',\n",
       " 'theater ticket',\n",
       " 'theater ticket',\n",
       " 'concert ticket',\n",
       " 'stream servic',\n",
       " 'game subscript',\n",
       " 'game subscript',\n",
       " 'stream servic',\n",
       " 'netflix subscript',\n",
       " 'netflix subscript',\n",
       " 'movi ticket',\n",
       " 'concert ticket',\n",
       " 'theater ticket',\n",
       " 'theater ticket',\n",
       " 'spotifi premium',\n",
       " 'movi ticket',\n",
       " 'spotifi premium',\n",
       " 'game subscript']"
      ]
     },
     "execution_count": 27,
     "metadata": {},
     "output_type": "execute_result"
    }
   ],
   "source": [
    "df[df['target']==1]['transformed_text'].tolist()"
   ]
  },
  {
   "cell_type": "code",
   "execution_count": 28,
   "id": "de2f22b0-c661-409c-932f-10219a2a8037",
   "metadata": {},
   "outputs": [],
   "source": [
    "Finance =[]\n",
    "for msg in df[df['target']==2]['transformed_text'].tolist():\n",
    "    for word in msg.split():\n",
    "        Finance.append(word)"
   ]
  },
  {
   "cell_type": "code",
   "execution_count": 29,
   "id": "21900d09-a1aa-46b5-aaac-a89b3804825d",
   "metadata": {},
   "outputs": [
    {
     "data": {
      "text/plain": [
       "['starbuck coffe',\n",
       " 'restaur dinner',\n",
       " 'onlin groceri',\n",
       " 'starbuck coffe',\n",
       " 'fast food order',\n",
       " 'onlin groceri',\n",
       " 'mcdonald',\n",
       " 'fast food order',\n",
       " 'fast food order',\n",
       " 'mcdonald',\n",
       " 'onlin groceri',\n",
       " 'onlin groceri',\n",
       " 'restaur dinner',\n",
       " 'mcdonald',\n",
       " 'restaur dinner',\n",
       " 'mcdonald',\n",
       " 'starbuck coffe',\n",
       " 'onlin groceri',\n",
       " 'restaur dinner',\n",
       " 'mcdonald',\n",
       " 'restaur dinner',\n",
       " 'onlin groceri',\n",
       " 'mcdonald',\n",
       " 'restaur dinner',\n",
       " 'restaur dinner']"
      ]
     },
     "execution_count": 29,
     "metadata": {},
     "output_type": "execute_result"
    }
   ],
   "source": [
    "df[df['target']==3]['transformed_text'].tolist()"
   ]
  },
  {
   "cell_type": "code",
   "execution_count": 30,
   "id": "eb616047-fd46-426d-96aa-c51199aea544",
   "metadata": {},
   "outputs": [],
   "source": [
    "Food_Drinks =[]\n",
    "for msg in df[df['target']==3]['transformed_text'].tolist():\n",
    "    for word in msg.split():\n",
    "        Food_Drinks.append(word)"
   ]
  },
  {
   "cell_type": "code",
   "execution_count": 31,
   "id": "4d6c7227-19e9-482c-b5dc-791c3b3419a0",
   "metadata": {},
   "outputs": [],
   "source": [
    "Health =[]\n",
    "for msg in df[df['target']==4]['transformed_text'].tolist():\n",
    "    for word in msg.split():\n",
    "        Health.append(word)"
   ]
  },
  {
   "cell_type": "code",
   "execution_count": 32,
   "id": "ef22d97d-ce60-4a68-8f4e-500375c8b4d8",
   "metadata": {},
   "outputs": [],
   "source": [
    "Health_Fitness =[]\n",
    "for msg in df[df['target']==5]['transformed_text'].tolist():\n",
    "    for word in msg.split():\n",
    "        Health_Fitness.append(word)"
   ]
  },
  {
   "cell_type": "code",
   "execution_count": 33,
   "id": "548935cc-ae9f-4115-b56f-c4b87c0e5bc4",
   "metadata": {},
   "outputs": [],
   "source": [
    "Housing =[]\n",
    "for msg in df[df['target']==6]['transformed_text'].tolist():\n",
    "    for word in msg.split():\n",
    "        Housing.append(word)"
   ]
  },
  {
   "cell_type": "code",
   "execution_count": 34,
   "id": "dc8d18a9-eedb-4544-8a65-ba46eb037f4a",
   "metadata": {},
   "outputs": [],
   "source": [
    "Insurance=[]\n",
    "for msg in df[df['target']==7]['transformed_text'].tolist():\n",
    "    for word in msg.split():\n",
    "        Insurance.append(word)"
   ]
  },
  {
   "cell_type": "code",
   "execution_count": 35,
   "id": "11b5c26d-0701-4d10-a268-e266c3fa6920",
   "metadata": {},
   "outputs": [],
   "source": [
    "Lifestyle=[]\n",
    "for msg in df[df['target']==8]['transformed_text'].tolist():\n",
    "    for word in msg.split():\n",
    "        Lifestyle.append(word)"
   ]
  },
  {
   "cell_type": "code",
   "execution_count": 36,
   "id": "831f8076-f3f6-4600-95b5-e7588b440882",
   "metadata": {},
   "outputs": [],
   "source": [
    "Loans=[]\n",
    "for msg in df[df['target']==9]['transformed_text'].tolist():\n",
    "    for word in msg.split():\n",
    "        Loans.append(word)"
   ]
  },
  {
   "cell_type": "code",
   "execution_count": 37,
   "id": "3facfe87-14ae-43a3-ac3e-abdd35abf5e8",
   "metadata": {},
   "outputs": [],
   "source": [
    "Shopping=[]\n",
    "for msg in df[df['target']==10]['transformed_text'].tolist():\n",
    "    for word in msg.split():\n",
    "        Shopping.append(word)"
   ]
  },
  {
   "cell_type": "code",
   "execution_count": 38,
   "id": "e6dc73f7-6bbc-46fb-a453-0394c5971bf8",
   "metadata": {},
   "outputs": [
    {
     "data": {
      "text/plain": [
       "['amazon purchas',\n",
       " 'home applianc purchas',\n",
       " 'cloth store',\n",
       " 'home applianc purchas',\n",
       " 'pet food purchas',\n",
       " 'pet food purchas',\n",
       " 'amazon purchas',\n",
       " 'pet food purchas',\n",
       " 'electron store',\n",
       " 'cloth store',\n",
       " 'pet food purchas',\n",
       " 'home applianc purchas',\n",
       " 'cloth store',\n",
       " 'amazon purchas',\n",
       " 'home applianc purchas',\n",
       " 'home applianc purchas']"
      ]
     },
     "execution_count": 38,
     "metadata": {},
     "output_type": "execute_result"
    }
   ],
   "source": [
    "df[df['target']==10]['transformed_text'].tolist()"
   ]
  },
  {
   "cell_type": "code",
   "execution_count": 39,
   "id": "bb328679-21b6-43b7-8a39-3010b735a10e",
   "metadata": {},
   "outputs": [],
   "source": [
    "Technology=[]\n",
    "for msg in df[df['target']==11]['transformed_text'].tolist():\n",
    "    for word in msg.split():\n",
    "        Technology.append(word)"
   ]
  },
  {
   "cell_type": "code",
   "execution_count": 40,
   "id": "c20328c3-2b8b-4ceb-9719-7daad2246d9f",
   "metadata": {},
   "outputs": [],
   "source": [
    "Transportation=[]\n",
    "for msg in df[df['target']==12]['transformed_text'].tolist():\n",
    "    for word in msg.split():\n",
    "        Transportation.append(word)"
   ]
  },
  {
   "cell_type": "code",
   "execution_count": 41,
   "id": "e995201c-b174-45e2-8898-9901ea130dfc",
   "metadata": {},
   "outputs": [],
   "source": [
    "Travel=[]\n",
    "for msg in df[df['target']==13]['transformed_text'].tolist():\n",
    "    for word in msg.split():\n",
    "        Travel.append(word)"
   ]
  },
  {
   "cell_type": "code",
   "execution_count": 42,
   "id": "ec4ce4e3-0d36-4b7b-956d-dfdb4f7f9a4f",
   "metadata": {},
   "outputs": [],
   "source": [
    "Utilities=[]\n",
    "for msg in df[df['target']==14]['transformed_text'].tolist():\n",
    "    for word in msg.split():\n",
    "        Utilities.append(word)"
   ]
  },
  {
   "cell_type": "code",
   "execution_count": 43,
   "id": "ef8abd47-b445-4606-9fa3-3309b44158f7",
   "metadata": {},
   "outputs": [],
   "source": [
    "# converting the text into number as vectorization\n",
    "from sklearn.feature_extraction.text import CountVectorizer, TfidfVectorizer\n",
    "cv = CountVectorizer()\n",
    "tfidf = TfidfVectorizer(max_features=3000)"
   ]
  },
  {
   "cell_type": "code",
   "execution_count": 44,
   "id": "ce59832b-c619-41a6-bfe5-2f7868038eb6",
   "metadata": {},
   "outputs": [],
   "source": [
    "x = cv.fit_transform(df['transformed_text']).toarray()\n",
    "# x = tfidf.fit_transform(df['transformed_text']).toarray()"
   ]
  },
  {
   "cell_type": "code",
   "execution_count": 45,
   "id": "1c7959b0-0476-430b-adf5-9b7bbb152260",
   "metadata": {},
   "outputs": [],
   "source": [
    "y = df['target'].values"
   ]
  },
  {
   "cell_type": "code",
   "execution_count": 46,
   "id": "cef1f191-c48c-4232-9102-042bad2143e7",
   "metadata": {},
   "outputs": [],
   "source": [
    "from sklearn.model_selection import train_test_split"
   ]
  },
  {
   "cell_type": "code",
   "execution_count": 47,
   "id": "1555c7b9-9d44-47f3-97a1-39cfcfe727de",
   "metadata": {},
   "outputs": [],
   "source": [
    "xtrain,xtest,ytrain,ytest =  train_test_split(x,y,test_size=0.2, random_state=2)"
   ]
  },
  {
   "cell_type": "code",
   "execution_count": 48,
   "id": "2a956442-a2ea-4311-99c6-432f7e3f5ff0",
   "metadata": {},
   "outputs": [],
   "source": [
    "from sklearn.naive_bayes import GaussianNB, MultinomialNB, BernoulliNB\n",
    "from sklearn.metrics import accuracy_score,confusion_matrix, precision_score "
   ]
  },
  {
   "cell_type": "code",
   "execution_count": null,
   "id": "c111f507-421d-4f74-bf7e-4e2bd7189c7a",
   "metadata": {},
   "outputs": [],
   "source": []
  },
  {
   "cell_type": "code",
   "execution_count": 49,
   "id": "1a525d01-0f82-4ae6-8a67-f41e8c8eee1e",
   "metadata": {},
   "outputs": [],
   "source": [
    "gnb = GaussianNB()\n",
    "mnb = MultinomialNB()\n",
    "bnb = BernoulliNB()"
   ]
  },
  {
   "cell_type": "code",
   "execution_count": 50,
   "id": "50fd620f-7965-4be9-9d97-372b16100e27",
   "metadata": {},
   "outputs": [
    {
     "name": "stdout",
     "output_type": "stream",
     "text": [
      "1.0\n",
      "[[4 0 0 0 0 0 0 0 0 0 0 0 0]\n",
      " [0 5 0 0 0 0 0 0 0 0 0 0 0]\n",
      " [0 0 1 0 0 0 0 0 0 0 0 0 0]\n",
      " [0 0 0 5 0 0 0 0 0 0 0 0 0]\n",
      " [0 0 0 0 3 0 0 0 0 0 0 0 0]\n",
      " [0 0 0 0 0 1 0 0 0 0 0 0 0]\n",
      " [0 0 0 0 0 0 1 0 0 0 0 0 0]\n",
      " [0 0 0 0 0 0 0 1 0 0 0 0 0]\n",
      " [0 0 0 0 0 0 0 0 6 0 0 0 0]\n",
      " [0 0 0 0 0 0 0 0 0 2 0 0 0]\n",
      " [0 0 0 0 0 0 0 0 0 0 6 0 0]\n",
      " [0 0 0 0 0 0 0 0 0 0 0 1 0]\n",
      " [0 0 0 0 0 0 0 0 0 0 0 0 4]]\n"
     ]
    }
   ],
   "source": [
    "gnb.fit(xtrain,ytrain)\n",
    "ypred1 = gnb.predict(xtest)\n",
    "print(accuracy_score(ytest,ypred1))\n",
    "print(confusion_matrix(ytest,ypred1))\n",
    "# print(precision_score(ytest,ypred1))"
   ]
  },
  {
   "cell_type": "code",
   "execution_count": 51,
   "id": "51abe40e-9ada-45e9-9c7b-e0686521c08e",
   "metadata": {},
   "outputs": [
    {
     "name": "stdout",
     "output_type": "stream",
     "text": [
      "0.9\n",
      "[[3 0 0 1 0 0 0 0 0 0 0 0 0]\n",
      " [0 5 0 0 0 0 0 0 0 0 0 0 0]\n",
      " [0 0 0 0 0 0 0 0 0 0 0 0 1]\n",
      " [0 0 0 5 0 0 0 0 0 0 0 0 0]\n",
      " [0 0 0 0 1 0 0 0 0 0 0 0 2]\n",
      " [0 0 0 0 0 1 0 0 0 0 0 0 0]\n",
      " [0 0 0 0 0 0 1 0 0 0 0 0 0]\n",
      " [0 0 0 0 0 0 0 1 0 0 0 0 0]\n",
      " [0 0 0 0 0 0 0 0 6 0 0 0 0]\n",
      " [0 0 0 0 0 0 0 0 0 2 0 0 0]\n",
      " [0 0 0 0 0 0 0 0 0 0 6 0 0]\n",
      " [0 0 0 0 0 0 0 0 0 0 0 1 0]\n",
      " [0 0 0 0 0 0 0 0 0 0 0 0 4]]\n"
     ]
    }
   ],
   "source": [
    "mnb.fit(xtrain,ytrain)\n",
    "ypred2 = mnb.predict(xtest)\n",
    "print(accuracy_score(ytest,ypred2))\n",
    "print(confusion_matrix(ytest,ypred2))\n",
    "# print(precision_score(ytest,ypred2))"
   ]
  },
  {
   "cell_type": "code",
   "execution_count": 52,
   "id": "3a84d038-c1a2-49fe-aee7-68782560acca",
   "metadata": {},
   "outputs": [
    {
     "name": "stdout",
     "output_type": "stream",
     "text": [
      "0.65\n",
      "[[0 0 0 1 0 0 0 0 0 0 0 0 3]\n",
      " [0 5 0 0 0 0 0 0 0 0 0 0 0]\n",
      " [0 0 0 0 0 0 0 0 0 0 0 0 1]\n",
      " [0 0 0 5 0 0 0 0 0 0 0 0 0]\n",
      " [0 0 0 0 1 0 0 0 0 0 0 0 2]\n",
      " [0 0 0 0 0 1 0 0 0 0 0 0 0]\n",
      " [0 0 0 0 0 0 0 0 0 0 0 0 1]\n",
      " [0 0 0 0 0 0 0 0 0 0 0 0 1]\n",
      " [0 0 0 0 0 0 0 0 4 0 0 0 2]\n",
      " [0 1 0 0 0 0 0 0 0 0 0 0 1]\n",
      " [0 0 0 0 0 0 0 0 0 0 6 0 0]\n",
      " [0 1 0 0 0 0 0 0 0 0 0 0 0]\n",
      " [0 0 0 0 0 0 0 0 0 0 0 0 4]]\n"
     ]
    }
   ],
   "source": [
    "bnb.fit(xtrain,ytrain)\n",
    "ypred3 = bnb.predict(xtest)\n",
    "print(accuracy_score(ytest,ypred3))\n",
    "print(confusion_matrix(ytest,ypred3))\n",
    "# print(precision_score(ytest,ypred3))"
   ]
  },
  {
   "cell_type": "code",
   "execution_count": 53,
   "id": "c1eb608e-c12e-46a2-9b5a-cb119fa60795",
   "metadata": {},
   "outputs": [],
   "source": [
    "# we choose tfidf --> MNB\n",
    "import pickle\n",
    "pickle.dump(cv, open('vectorizer.pkl','wb'))\n",
    "pickle.dump(mnb, open('model.pkl','wb'))"
   ]
  },
  {
   "cell_type": "code",
   "execution_count": 56,
   "id": "a79a477c-6583-4b15-8775-afabe5260e32",
   "metadata": {},
   "outputs": [
    {
     "data": {
      "text/plain": [
       "['vectorizer_categorization_model.pkl']"
      ]
     },
     "execution_count": 56,
     "metadata": {},
     "output_type": "execute_result"
    }
   ],
   "source": [
    "import joblib  # For saving models\n",
    "\n",
    "# Save the trained model\n",
    "joblib.dump(mnb, 'expense_categorization_model.pkl')\n",
    "joblib.dump(mnb, 'vectorizer_categorization_model.pkl')\n",
    "\n",
    "# # Save the vectorizer\n",
    "# joblib.dump(vectorizer, 'vectorizer.pkl')\n"
   ]
  },
  {
   "cell_type": "code",
   "execution_count": null,
   "id": "54a2a119-c0bc-4162-ad37-fe7ed1c9912c",
   "metadata": {},
   "outputs": [],
   "source": []
  },
  {
   "cell_type": "code",
   "execution_count": null,
   "id": "3f9f8397-80d4-4970-9ac0-a5eda3041e85",
   "metadata": {},
   "outputs": [],
   "source": []
  },
  {
   "cell_type": "code",
   "execution_count": null,
   "id": "30f9f909-e2aa-4a89-84ed-1100d13c66c8",
   "metadata": {},
   "outputs": [],
   "source": []
  },
  {
   "cell_type": "code",
   "execution_count": null,
   "id": "6881698b-edf4-4e4d-9bbc-2d1a47fe2d71",
   "metadata": {},
   "outputs": [],
   "source": []
  }
 ],
 "metadata": {
  "kernelspec": {
   "display_name": "Python 3 (ipykernel)",
   "language": "python",
   "name": "python3"
  },
  "language_info": {
   "codemirror_mode": {
    "name": "ipython",
    "version": 3
   },
   "file_extension": ".py",
   "mimetype": "text/x-python",
   "name": "python",
   "nbconvert_exporter": "python",
   "pygments_lexer": "ipython3",
   "version": "3.11.7"
  }
 },
 "nbformat": 4,
 "nbformat_minor": 5
}
