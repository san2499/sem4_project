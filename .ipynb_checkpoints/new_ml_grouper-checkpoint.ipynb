{
 "cells": [
  {
   "cell_type": "code",
   "execution_count": 24,
   "id": "cc7a4b12-c591-4da7-bf39-874887ffe82e",
   "metadata": {},
   "outputs": [
    {
     "name": "stderr",
     "output_type": "stream",
     "text": [
      "[nltk_data] Downloading package stopwords to\n",
      "[nltk_data]     C:\\Users\\santo\\AppData\\Roaming\\nltk_data...\n",
      "[nltk_data]   Package stopwords is already up-to-date!\n"
     ]
    }
   ],
   "source": [
    "import pandas as pd\n",
    "import pandas as pd\n",
    "from nltk.corpus import stopwords\n",
    "import re\n",
    "import nltk\n",
    "nltk.download('stopwords')\n",
    "import random"
   ]
  },
  {
   "cell_type": "code",
   "execution_count": 25,
   "id": "7c10dc34-d67a-420f-8af5-f2a413272a5d",
   "metadata": {},
   "outputs": [],
   "source": [
    "descriptions = [\n",
    "    'Starbucks Coffee', 'Uber Ride', 'Netflix Subscription', 'Electricity Bill', 'McDonald’s',\n",
    "    'Amazon Purchase', 'Spotify Premium', 'Gym Membership', 'Grocery Shopping', 'Taxi Fare',\n",
    "    'Movie Ticket', 'Water Bill', 'Insurance Payment', 'Gas Station', 'Phone Bill',\n",
    "    'Restaurant Dinner', 'Online Course', 'Clothing Store', 'Doctor Visit', 'Car Maintenance'\n",
    "]\n",
    "\n",
    "categories = [\n",
    "    'Food & Drinks', 'Transportation', 'Entertainment', 'Utilities', 'Shopping',\n",
    "    'Health', 'Education', 'Travel', 'Groceries', 'Insurance'\n",
    "]\n",
    "\n",
    "# Generate 100 sample data points\n",
    "data = {\n",
    "    'Description': [random.choice(descriptions) for _ in range(100)],\n",
    "    'Amount': [round(random.uniform(5, 200), 2) for _ in range(100)],\n",
    "    'Category': [random.choice(categories) for _ in range(100)]\n",
    "}\n",
    "\n",
    "# Convert to DataFrame\n",
    "df = pd.DataFrame(data)\n",
    "\n",
    "\n",
    "\n",
    "\n",
    "df.to_csv('expenses.csv', index=False)\n",
    "\n"
   ]
  },
  {
   "cell_type": "code",
   "execution_count": 27,
   "id": "264c31f4-7fd5-4cb5-be2f-e8f8d0fb56f1",
   "metadata": {},
   "outputs": [
    {
     "data": {
      "text/html": [
       "<div>\n",
       "<style scoped>\n",
       "    .dataframe tbody tr th:only-of-type {\n",
       "        vertical-align: middle;\n",
       "    }\n",
       "\n",
       "    .dataframe tbody tr th {\n",
       "        vertical-align: top;\n",
       "    }\n",
       "\n",
       "    .dataframe thead th {\n",
       "        text-align: right;\n",
       "    }\n",
       "</style>\n",
       "<table border=\"1\" class=\"dataframe\">\n",
       "  <thead>\n",
       "    <tr style=\"text-align: right;\">\n",
       "      <th></th>\n",
       "      <th>Description</th>\n",
       "      <th>Amount</th>\n",
       "      <th>Category</th>\n",
       "    </tr>\n",
       "  </thead>\n",
       "  <tbody>\n",
       "    <tr>\n",
       "      <th>0</th>\n",
       "      <td>Insurance Payment</td>\n",
       "      <td>150.07</td>\n",
       "      <td>Insurance</td>\n",
       "    </tr>\n",
       "    <tr>\n",
       "      <th>1</th>\n",
       "      <td>Grocery Shopping</td>\n",
       "      <td>89.95</td>\n",
       "      <td>Insurance</td>\n",
       "    </tr>\n",
       "    <tr>\n",
       "      <th>2</th>\n",
       "      <td>Clothing Store</td>\n",
       "      <td>135.96</td>\n",
       "      <td>Travel</td>\n",
       "    </tr>\n",
       "    <tr>\n",
       "      <th>3</th>\n",
       "      <td>Doctor Visit</td>\n",
       "      <td>180.85</td>\n",
       "      <td>Shopping</td>\n",
       "    </tr>\n",
       "    <tr>\n",
       "      <th>4</th>\n",
       "      <td>Taxi Fare</td>\n",
       "      <td>143.98</td>\n",
       "      <td>Education</td>\n",
       "    </tr>\n",
       "  </tbody>\n",
       "</table>\n",
       "</div>"
      ],
      "text/plain": [
       "         Description  Amount   Category\n",
       "0  Insurance Payment  150.07  Insurance\n",
       "1   Grocery Shopping   89.95  Insurance\n",
       "2     Clothing Store  135.96     Travel\n",
       "3       Doctor Visit  180.85   Shopping\n",
       "4          Taxi Fare  143.98  Education"
      ]
     },
     "execution_count": 27,
     "metadata": {},
     "output_type": "execute_result"
    }
   ],
   "source": [
    "df.head()"
   ]
  },
  {
   "cell_type": "code",
   "execution_count": 28,
   "id": "b39ed118-69ce-4ca2-bf95-f8c2f0fbbfc7",
   "metadata": {},
   "outputs": [
    {
     "name": "stdout",
     "output_type": "stream",
     "text": [
      "          Description Cleaned_Description\n",
      "0   Insurance Payment   insurance payment\n",
      "1    Grocery Shopping    grocery shopping\n",
      "2      Clothing Store      clothing store\n",
      "3        Doctor Visit        doctor visit\n",
      "4           Taxi Fare           taxi fare\n",
      "..                ...                 ...\n",
      "95      Online Course       online course\n",
      "96        Gas Station         gas station\n",
      "97   Starbucks Coffee    starbucks coffee\n",
      "98  Restaurant Dinner   restaurant dinner\n",
      "99    Car Maintenance     car maintenance\n",
      "\n",
      "[100 rows x 2 columns]\n"
     ]
    }
   ],
   "source": [
    "\n",
    "def clean_text(text):\n",
    "    text = text.lower()                                 # Lowercase\n",
    "    text = re.sub(r'[^a-zA-Z\\s]', '', text)             # Remove special characters\n",
    "    text = ' '.join([word for word in text.split() if word not in stopwords.words('english')])  \n",
    "    return text\n",
    "\n",
    "df = pd.read_csv('expenses.csv')\n",
    "df['Cleaned_Description'] = df['Description'].apply(clean_text)\n",
    "print(df[['Description', 'Cleaned_Description']])\n"
   ]
  },
  {
   "cell_type": "code",
   "execution_count": 29,
   "id": "ce1105d6-1789-422d-b5a8-9d7423e6652c",
   "metadata": {},
   "outputs": [
    {
     "name": "stdout",
     "output_type": "stream",
     "text": [
      "[[0.         0.         0.         ... 0.         0.         0.        ]\n",
      " [0.         0.         0.         ... 0.         0.         0.        ]\n",
      " [0.         0.         0.         ... 0.         0.         0.        ]\n",
      " ...\n",
      " [0.         0.         0.         ... 0.         0.         0.        ]\n",
      " [0.         0.         0.         ... 0.         0.         0.        ]\n",
      " [0.         0.         0.70710678 ... 0.         0.         0.        ]]\n"
     ]
    }
   ],
   "source": [
    "from sklearn.feature_extraction.text import TfidfVectorizer\n",
    "\n",
    "vectorizer = TfidfVectorizer()\n",
    "X = vectorizer.fit_transform(df['Cleaned_Description'])\n",
    "print(X.toarray())\n"
   ]
  },
  {
   "cell_type": "code",
   "execution_count": 41,
   "id": "428ce08a-b798-40ba-9efc-e7dbc8985673",
   "metadata": {},
   "outputs": [
    {
     "ename": "TypeError",
     "evalue": "'module' object is not callable",
     "output_type": "error",
     "traceback": [
      "\u001b[1;31m---------------------------------------------------------------------------\u001b[0m",
      "\u001b[1;31mTypeError\u001b[0m                                 Traceback (most recent call last)",
      "Cell \u001b[1;32mIn[41], line 7\u001b[0m\n\u001b[0;32m      3\u001b[0m \u001b[38;5;28;01mfrom\u001b[39;00m \u001b[38;5;21;01msklearn\u001b[39;00m\u001b[38;5;21;01m.\u001b[39;00m\u001b[38;5;21;01mmetrics\u001b[39;00m \u001b[38;5;28;01mimport\u001b[39;00m accuracy_score\n\u001b[0;32m      5\u001b[0m X_train, X_test, y_train, y_test \u001b[38;5;241m=\u001b[39m train_test_split(X, df[\u001b[38;5;124m'\u001b[39m\u001b[38;5;124mCategory\u001b[39m\u001b[38;5;124m'\u001b[39m], test_size\u001b[38;5;241m=\u001b[39m\u001b[38;5;241m0.2\u001b[39m, random_state\u001b[38;5;241m=\u001b[39m\u001b[38;5;241m42\u001b[39m)\n\u001b[1;32m----> 7\u001b[0m model \u001b[38;5;241m=\u001b[39m xgb()\n\u001b[0;32m      8\u001b[0m model\u001b[38;5;241m.\u001b[39mfit(X_train, y_train)\n\u001b[0;32m     10\u001b[0m \u001b[38;5;66;03m# Prediction\u001b[39;00m\n",
      "\u001b[1;31mTypeError\u001b[0m: 'module' object is not callable"
     ]
    }
   ],
   "source": []
  },
  {
   "cell_type": "code",
   "execution_count": 31,
   "id": "1cf60393-ca2a-4fe4-bfbc-8f3642d74328",
   "metadata": {},
   "outputs": [],
   "source": [
    "import joblib"
   ]
  },
  {
   "cell_type": "code",
   "execution_count": 32,
   "id": "12c919fa-50bb-4ef5-adb2-8096f9f1728f",
   "metadata": {},
   "outputs": [
    {
     "data": {
      "text/plain": [
       "['vectorizer.pkl']"
      ]
     },
     "execution_count": 32,
     "metadata": {},
     "output_type": "execute_result"
    }
   ],
   "source": [
    "joblib.dump(model, \"expanse_categorizer_model.pkl\")\n",
    "joblib.dump(vectorizer, \"vectorizer.pkl\")"
   ]
  },
  {
   "cell_type": "code",
   "execution_count": 33,
   "id": "ee286a6d-676c-4669-ae60-92b07deda4ed",
   "metadata": {},
   "outputs": [
    {
     "data": {
      "text/plain": [
       "array(['Shopping', 'Shopping', 'Education', 'Travel', 'Utilities',\n",
       "       'Education', 'Education', 'Utilities', 'Entertainment', 'Shopping',\n",
       "       'Entertainment', 'Shopping', 'Utilities', 'Education', 'Shopping',\n",
       "       'Food & Drinks', 'Shopping', 'Shopping', 'Education', 'Shopping'],\n",
       "      dtype=object)"
      ]
     },
     "execution_count": 33,
     "metadata": {},
     "output_type": "execute_result"
    }
   ],
   "source": [
    "y_pred"
   ]
  },
  {
   "cell_type": "code",
   "execution_count": null,
   "id": "99ebf19a-23f4-476d-93c3-a0d0086eb484",
   "metadata": {},
   "outputs": [],
   "source": []
  },
  {
   "cell_type": "code",
   "execution_count": null,
   "id": "e38e6139-c116-4a02-900d-f078728773f0",
   "metadata": {},
   "outputs": [],
   "source": []
  },
  {
   "cell_type": "code",
   "execution_count": null,
   "id": "3df12c69-041d-45fb-a397-73959826019e",
   "metadata": {},
   "outputs": [],
   "source": []
  },
  {
   "cell_type": "code",
   "execution_count": null,
   "id": "09e61123-9f49-4189-b2b9-34f9f13482a0",
   "metadata": {},
   "outputs": [],
   "source": []
  },
  {
   "cell_type": "code",
   "execution_count": null,
   "id": "a84d9d12-3371-4996-b96b-f017172fa0b0",
   "metadata": {},
   "outputs": [],
   "source": []
  },
  {
   "cell_type": "code",
   "execution_count": null,
   "id": "7e8e3aee-33ab-4272-a9ae-b2aac273f5a7",
   "metadata": {},
   "outputs": [],
   "source": []
  },
  {
   "cell_type": "code",
   "execution_count": null,
   "id": "0f1ddaa1-114d-4dd9-aba6-519a6745f38e",
   "metadata": {},
   "outputs": [],
   "source": []
  },
  {
   "cell_type": "code",
   "execution_count": null,
   "id": "deac3cf2-d3b1-4b33-8ea0-c3055ce044a4",
   "metadata": {},
   "outputs": [],
   "source": []
  },
  {
   "cell_type": "code",
   "execution_count": null,
   "id": "4f260219-6b15-419f-9679-696e550ac964",
   "metadata": {},
   "outputs": [],
   "source": []
  },
  {
   "cell_type": "code",
   "execution_count": 9,
   "id": "55c7939b-77ab-4794-b790-2c244aaf7f96",
   "metadata": {},
   "outputs": [
    {
     "name": "stdout",
     "output_type": "stream",
     "text": [
      "Optimal number of clusters: 4\n",
      "\n",
      "Categorized Expenses:\n",
      "                      Description       Category\n",
      "0            Movie ticket at PVR         Health\n",
      "1      Hospital bill for checkup  Food & Dining\n",
      "2  Tuition fee for Python course         Health\n",
      "3   Netflix monthly subscription         Health\n",
      "4              Medicine purchase      Education\n",
      "5         Books for Data Science         Health\n",
      "6           Dinner at BBQ Nation  Entertainment\n",
      "7             Gym membership fee         Health\n",
      "8        Doctor consultation fee         Health\n"
     ]
    }
   ],
   "source": [
    "import pandas as pd\n",
    "from sklearn.feature_extraction.text import TfidfVectorizer\n",
    "from sklearn.cluster import KMeans\n",
    "from sklearn.metrics import silhouette_score\n",
    "import numpy as np\n",
    "\n",
    "# Sample dataset (replace this with your CSV file)\n",
    "data = {\n",
    "    'Description': [\n",
    "        'Movie ticket at PVR',\n",
    "        'Hospital bill for checkup',\n",
    "        'Tuition fee for Python course',\n",
    "        'Netflix monthly subscription',\n",
    "        'Medicine purchase',\n",
    "        'Books for Data Science',\n",
    "        'Dinner at BBQ Nation',\n",
    "        'Gym membership fee',\n",
    "        'Doctor consultation fee'\n",
    "    ]\n",
    "}\n",
    "df = pd.DataFrame(data)\n",
    "\n",
    "# Vectorize the text descriptions\n",
    "vectorizer = TfidfVectorizer(stop_words='english')\n",
    "X = vectorizer.fit_transform(df['Description'])\n",
    "\n",
    "# Determine optimal number of clusters using silhouette score\n",
    "def optimal_clusters(X, max_clusters=5):\n",
    "    best_score = -1\n",
    "    best_k = 2\n",
    "    for k in range(2, min(max_clusters, X.shape[0])):  # Ensures k < n_samples\n",
    "        kmeans = KMeans(n_clusters=k, random_state=42, n_init='auto')\n",
    "        labels = kmeans.fit_predict(X)\n",
    "        score = silhouette_score(X, labels)\n",
    "        if score > best_score:\n",
    "            best_score = score\n",
    "            best_k = k\n",
    "    return best_k\n",
    "\n",
    "# Optimal cluster calculation\n",
    "optimal_k = optimal_clusters(X)\n",
    "print(f\"Optimal number of clusters: {optimal_k}\")\n",
    "\n",
    "# Train KMeans model\n",
    "kmeans = KMeans(n_clusters=optimal_k, random_state=42, n_init='auto')\n",
    "df['Category'] = kmeans.fit_predict(X)\n",
    "\n",
    "# Display grouped data\n",
    "grouped_expenses = df.groupby('Category')['Description'].apply(list).reset_index()\n",
    "# print(grouped_expenses)\n",
    "\n",
    "# Optional: Mapping categories to meaningful labels (manual mapping)\n",
    "category_mapping = {\n",
    "    0: 'Entertainment',\n",
    "    1: 'Health',\n",
    "    2: 'Education',\n",
    "    3: 'Food & Dining',\n",
    "    4: 'Subscription'\n",
    "}\n",
    "df['Category'] = df['Category'].map(category_mapping)\n",
    "\n",
    "print(\"\\nCategorized Expenses:\\n\", df)"
   ]
  },
  {
   "cell_type": "code",
   "execution_count": null,
   "id": "00a5d962-7e05-441b-8178-1c6e977cbd7d",
   "metadata": {},
   "outputs": [],
   "source": []
  },
  {
   "cell_type": "code",
   "execution_count": null,
   "id": "78276c21-48ba-46b1-8eb1-6630cad4f0f8",
   "metadata": {},
   "outputs": [],
   "source": []
  }
 ],
 "metadata": {
  "kernelspec": {
   "display_name": "Python 3 (ipykernel)",
   "language": "python",
   "name": "python3"
  },
  "language_info": {
   "codemirror_mode": {
    "name": "ipython",
    "version": 3
   },
   "file_extension": ".py",
   "mimetype": "text/x-python",
   "name": "python",
   "nbconvert_exporter": "python",
   "pygments_lexer": "ipython3",
   "version": "3.11.7"
  }
 },
 "nbformat": 4,
 "nbformat_minor": 5
}
